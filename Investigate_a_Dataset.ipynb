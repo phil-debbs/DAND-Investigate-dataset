{
 "cells": [
  {
   "cell_type": "markdown",
   "metadata": {},
   "source": [
    "\n",
    "# Project: Investigating the TMDb movie data \n",
    "\n",
    "## Table of Contents\n",
    "<ul>\n",
    "<li><a href=\"#intro\">Introduction</a></li>\n",
    "<li><a href=\"#wrangling\">Data Wrangling</a></li>\n",
    "<li><a href=\"#eda\">Exploratory Data Analysis</a></li>\n",
    "<li><a href=\"#conclusions\">Conclusions</a></li>\n",
    "</ul>"
   ]
  },
  {
   "cell_type": "markdown",
   "metadata": {},
   "source": [
    "<a id='intro'></a>\n",
    "## Introduction\n",
    "\n",
    "This is a project to analyse data from The Movie Database (TMDb) and extract insight into factors that influence revenues and profits of the movies. The data set contains information about 10,800 movies collected from The Movie Database (TMDb).\n",
    "\n",
    "Questions that this analysis seeks to anwser include:\n",
    "<ol id='toc'>\n",
    "<li> <a href='#q1'>Which movie has the highest Budget?</a></li>\n",
    "<li> <a href='#q2'>Which movie generated the highest Revenue and Profit?</a></li>\n",
    "<li> <a href='#q3'>What genre is most produced?</a></li>\n",
    "<li> <a href='#q4'>What genre of movies received higher Popularity?</a></li>\n",
    "<li> <a href='#q5'>What genre of movies received higher User Ratings?</a></li> \n",
    "<li> <a href='#q6'>What genre of movies has highest Budgets?</a></li>\n",
    "<li> <a href='#q7'>What genre of movies has highest Revenues?</a></li>\n",
    "<li> <a href='#q8'>Do high Budget movies make higher Revenues?</a></li>\n",
    "<li> <a href='#q9'>What genre of music has highest profit?</a></li>\n",
    "<li> <a href='#q10'>How does User Rating and Popularity influence Revenue?</a></li>\n",
    "</ol>    "
   ]
  },
  {
   "cell_type": "code",
   "execution_count": 292,
   "metadata": {},
   "outputs": [],
   "source": [
    "#import packages \n",
    "import pandas as pd\n",
    "import numpy as np\n",
    "import matplotlib.pyplot as plt\n",
    "% matplotlib inline\n",
    "import seaborn as sns\n",
    "sns.set_style('darkgrid')"
   ]
  },
  {
   "cell_type": "markdown",
   "metadata": {},
   "source": [
    "<a id='wrangling'></a>\n",
    "## Data Wrangling\n",
    "\n",
    "\n",
    "### General Properties"
   ]
  },
  {
   "cell_type": "code",
   "execution_count": 293,
   "metadata": {},
   "outputs": [
    {
     "data": {
      "text/html": [
       "<div>\n",
       "<style>\n",
       "    .dataframe thead tr:only-child th {\n",
       "        text-align: right;\n",
       "    }\n",
       "\n",
       "    .dataframe thead th {\n",
       "        text-align: left;\n",
       "    }\n",
       "\n",
       "    .dataframe tbody tr th {\n",
       "        vertical-align: top;\n",
       "    }\n",
       "</style>\n",
       "<table border=\"1\" class=\"dataframe\">\n",
       "  <thead>\n",
       "    <tr style=\"text-align: right;\">\n",
       "      <th></th>\n",
       "      <th>id</th>\n",
       "      <th>imdb_id</th>\n",
       "      <th>popularity</th>\n",
       "      <th>budget</th>\n",
       "      <th>revenue</th>\n",
       "      <th>original_title</th>\n",
       "      <th>cast</th>\n",
       "      <th>homepage</th>\n",
       "      <th>director</th>\n",
       "      <th>tagline</th>\n",
       "      <th>...</th>\n",
       "      <th>overview</th>\n",
       "      <th>runtime</th>\n",
       "      <th>genres</th>\n",
       "      <th>production_companies</th>\n",
       "      <th>release_date</th>\n",
       "      <th>vote_count</th>\n",
       "      <th>vote_average</th>\n",
       "      <th>release_year</th>\n",
       "      <th>budget_adj</th>\n",
       "      <th>revenue_adj</th>\n",
       "    </tr>\n",
       "  </thead>\n",
       "  <tbody>\n",
       "    <tr>\n",
       "      <th>0</th>\n",
       "      <td>135397</td>\n",
       "      <td>tt0369610</td>\n",
       "      <td>32.985763</td>\n",
       "      <td>150000000</td>\n",
       "      <td>1513528810</td>\n",
       "      <td>Jurassic World</td>\n",
       "      <td>Chris Pratt|Bryce Dallas Howard|Irrfan Khan|Vi...</td>\n",
       "      <td>http://www.jurassicworld.com/</td>\n",
       "      <td>Colin Trevorrow</td>\n",
       "      <td>The park is open.</td>\n",
       "      <td>...</td>\n",
       "      <td>Twenty-two years after the events of Jurassic ...</td>\n",
       "      <td>124</td>\n",
       "      <td>Action|Adventure|Science Fiction|Thriller</td>\n",
       "      <td>Universal Studios|Amblin Entertainment|Legenda...</td>\n",
       "      <td>6/9/15</td>\n",
       "      <td>5562</td>\n",
       "      <td>6.5</td>\n",
       "      <td>2015</td>\n",
       "      <td>1.379999e+08</td>\n",
       "      <td>1.392446e+09</td>\n",
       "    </tr>\n",
       "    <tr>\n",
       "      <th>1</th>\n",
       "      <td>76341</td>\n",
       "      <td>tt1392190</td>\n",
       "      <td>28.419936</td>\n",
       "      <td>150000000</td>\n",
       "      <td>378436354</td>\n",
       "      <td>Mad Max: Fury Road</td>\n",
       "      <td>Tom Hardy|Charlize Theron|Hugh Keays-Byrne|Nic...</td>\n",
       "      <td>http://www.madmaxmovie.com/</td>\n",
       "      <td>George Miller</td>\n",
       "      <td>What a Lovely Day.</td>\n",
       "      <td>...</td>\n",
       "      <td>An apocalyptic story set in the furthest reach...</td>\n",
       "      <td>120</td>\n",
       "      <td>Action|Adventure|Science Fiction|Thriller</td>\n",
       "      <td>Village Roadshow Pictures|Kennedy Miller Produ...</td>\n",
       "      <td>5/13/15</td>\n",
       "      <td>6185</td>\n",
       "      <td>7.1</td>\n",
       "      <td>2015</td>\n",
       "      <td>1.379999e+08</td>\n",
       "      <td>3.481613e+08</td>\n",
       "    </tr>\n",
       "  </tbody>\n",
       "</table>\n",
       "<p>2 rows × 21 columns</p>\n",
       "</div>"
      ],
      "text/plain": [
       "       id    imdb_id  popularity     budget     revenue      original_title  \\\n",
       "0  135397  tt0369610   32.985763  150000000  1513528810      Jurassic World   \n",
       "1   76341  tt1392190   28.419936  150000000   378436354  Mad Max: Fury Road   \n",
       "\n",
       "                                                cast  \\\n",
       "0  Chris Pratt|Bryce Dallas Howard|Irrfan Khan|Vi...   \n",
       "1  Tom Hardy|Charlize Theron|Hugh Keays-Byrne|Nic...   \n",
       "\n",
       "                        homepage         director             tagline  \\\n",
       "0  http://www.jurassicworld.com/  Colin Trevorrow   The park is open.   \n",
       "1    http://www.madmaxmovie.com/    George Miller  What a Lovely Day.   \n",
       "\n",
       "       ...                                                overview runtime  \\\n",
       "0      ...       Twenty-two years after the events of Jurassic ...     124   \n",
       "1      ...       An apocalyptic story set in the furthest reach...     120   \n",
       "\n",
       "                                      genres  \\\n",
       "0  Action|Adventure|Science Fiction|Thriller   \n",
       "1  Action|Adventure|Science Fiction|Thriller   \n",
       "\n",
       "                                production_companies release_date vote_count  \\\n",
       "0  Universal Studios|Amblin Entertainment|Legenda...       6/9/15       5562   \n",
       "1  Village Roadshow Pictures|Kennedy Miller Produ...      5/13/15       6185   \n",
       "\n",
       "   vote_average  release_year    budget_adj   revenue_adj  \n",
       "0           6.5          2015  1.379999e+08  1.392446e+09  \n",
       "1           7.1          2015  1.379999e+08  3.481613e+08  \n",
       "\n",
       "[2 rows x 21 columns]"
      ]
     },
     "execution_count": 293,
     "metadata": {},
     "output_type": "execute_result"
    }
   ],
   "source": [
    "# Load your data and print out a few lines. Perform operations to inspect data\n",
    "#   types and look for instances of missing or possibly errant data.\n",
    "df = pd.read_csv('tmdb-movies.csv')\n",
    "\n",
    "# preview the dataset\n",
    "df.head(2)"
   ]
  },
  {
   "cell_type": "code",
   "execution_count": 294,
   "metadata": {},
   "outputs": [
    {
     "data": {
      "text/plain": [
       "id                        int64\n",
       "imdb_id                  object\n",
       "popularity              float64\n",
       "budget                    int64\n",
       "revenue                   int64\n",
       "original_title           object\n",
       "cast                     object\n",
       "homepage                 object\n",
       "director                 object\n",
       "tagline                  object\n",
       "keywords                 object\n",
       "overview                 object\n",
       "runtime                   int64\n",
       "genres                   object\n",
       "production_companies     object\n",
       "release_date             object\n",
       "vote_count                int64\n",
       "vote_average            float64\n",
       "release_year              int64\n",
       "budget_adj              float64\n",
       "revenue_adj             float64\n",
       "dtype: object"
      ]
     },
     "execution_count": 294,
     "metadata": {},
     "output_type": "execute_result"
    }
   ],
   "source": [
    "# inspect data types of columns\n",
    "df.dtypes"
   ]
  },
  {
   "cell_type": "code",
   "execution_count": 295,
   "metadata": {},
   "outputs": [
    {
     "data": {
      "text/html": [
       "<div>\n",
       "<style>\n",
       "    .dataframe thead tr:only-child th {\n",
       "        text-align: right;\n",
       "    }\n",
       "\n",
       "    .dataframe thead th {\n",
       "        text-align: left;\n",
       "    }\n",
       "\n",
       "    .dataframe tbody tr th {\n",
       "        vertical-align: top;\n",
       "    }\n",
       "</style>\n",
       "<table border=\"1\" class=\"dataframe\">\n",
       "  <thead>\n",
       "    <tr style=\"text-align: right;\">\n",
       "      <th></th>\n",
       "      <th>id</th>\n",
       "      <th>popularity</th>\n",
       "      <th>budget</th>\n",
       "      <th>revenue</th>\n",
       "      <th>runtime</th>\n",
       "      <th>vote_count</th>\n",
       "      <th>vote_average</th>\n",
       "      <th>release_year</th>\n",
       "      <th>budget_adj</th>\n",
       "      <th>revenue_adj</th>\n",
       "    </tr>\n",
       "  </thead>\n",
       "  <tbody>\n",
       "    <tr>\n",
       "      <th>count</th>\n",
       "      <td>10866.000000</td>\n",
       "      <td>10866.000000</td>\n",
       "      <td>1.086600e+04</td>\n",
       "      <td>1.086600e+04</td>\n",
       "      <td>10866.000000</td>\n",
       "      <td>10866.000000</td>\n",
       "      <td>10866.000000</td>\n",
       "      <td>10866.000000</td>\n",
       "      <td>1.086600e+04</td>\n",
       "      <td>1.086600e+04</td>\n",
       "    </tr>\n",
       "    <tr>\n",
       "      <th>mean</th>\n",
       "      <td>66064.177434</td>\n",
       "      <td>0.646441</td>\n",
       "      <td>1.462570e+07</td>\n",
       "      <td>3.982332e+07</td>\n",
       "      <td>102.070863</td>\n",
       "      <td>217.389748</td>\n",
       "      <td>5.974922</td>\n",
       "      <td>2001.322658</td>\n",
       "      <td>1.755104e+07</td>\n",
       "      <td>5.136436e+07</td>\n",
       "    </tr>\n",
       "    <tr>\n",
       "      <th>std</th>\n",
       "      <td>92130.136561</td>\n",
       "      <td>1.000185</td>\n",
       "      <td>3.091321e+07</td>\n",
       "      <td>1.170035e+08</td>\n",
       "      <td>31.381405</td>\n",
       "      <td>575.619058</td>\n",
       "      <td>0.935142</td>\n",
       "      <td>12.812941</td>\n",
       "      <td>3.430616e+07</td>\n",
       "      <td>1.446325e+08</td>\n",
       "    </tr>\n",
       "    <tr>\n",
       "      <th>min</th>\n",
       "      <td>5.000000</td>\n",
       "      <td>0.000065</td>\n",
       "      <td>0.000000e+00</td>\n",
       "      <td>0.000000e+00</td>\n",
       "      <td>0.000000</td>\n",
       "      <td>10.000000</td>\n",
       "      <td>1.500000</td>\n",
       "      <td>1960.000000</td>\n",
       "      <td>0.000000e+00</td>\n",
       "      <td>0.000000e+00</td>\n",
       "    </tr>\n",
       "    <tr>\n",
       "      <th>25%</th>\n",
       "      <td>10596.250000</td>\n",
       "      <td>0.207583</td>\n",
       "      <td>0.000000e+00</td>\n",
       "      <td>0.000000e+00</td>\n",
       "      <td>90.000000</td>\n",
       "      <td>17.000000</td>\n",
       "      <td>5.400000</td>\n",
       "      <td>1995.000000</td>\n",
       "      <td>0.000000e+00</td>\n",
       "      <td>0.000000e+00</td>\n",
       "    </tr>\n",
       "    <tr>\n",
       "      <th>50%</th>\n",
       "      <td>20669.000000</td>\n",
       "      <td>0.383856</td>\n",
       "      <td>0.000000e+00</td>\n",
       "      <td>0.000000e+00</td>\n",
       "      <td>99.000000</td>\n",
       "      <td>38.000000</td>\n",
       "      <td>6.000000</td>\n",
       "      <td>2006.000000</td>\n",
       "      <td>0.000000e+00</td>\n",
       "      <td>0.000000e+00</td>\n",
       "    </tr>\n",
       "    <tr>\n",
       "      <th>75%</th>\n",
       "      <td>75610.000000</td>\n",
       "      <td>0.713817</td>\n",
       "      <td>1.500000e+07</td>\n",
       "      <td>2.400000e+07</td>\n",
       "      <td>111.000000</td>\n",
       "      <td>145.750000</td>\n",
       "      <td>6.600000</td>\n",
       "      <td>2011.000000</td>\n",
       "      <td>2.085325e+07</td>\n",
       "      <td>3.369710e+07</td>\n",
       "    </tr>\n",
       "    <tr>\n",
       "      <th>max</th>\n",
       "      <td>417859.000000</td>\n",
       "      <td>32.985763</td>\n",
       "      <td>4.250000e+08</td>\n",
       "      <td>2.781506e+09</td>\n",
       "      <td>900.000000</td>\n",
       "      <td>9767.000000</td>\n",
       "      <td>9.200000</td>\n",
       "      <td>2015.000000</td>\n",
       "      <td>4.250000e+08</td>\n",
       "      <td>2.827124e+09</td>\n",
       "    </tr>\n",
       "  </tbody>\n",
       "</table>\n",
       "</div>"
      ],
      "text/plain": [
       "                  id    popularity        budget       revenue       runtime  \\\n",
       "count   10866.000000  10866.000000  1.086600e+04  1.086600e+04  10866.000000   \n",
       "mean    66064.177434      0.646441  1.462570e+07  3.982332e+07    102.070863   \n",
       "std     92130.136561      1.000185  3.091321e+07  1.170035e+08     31.381405   \n",
       "min         5.000000      0.000065  0.000000e+00  0.000000e+00      0.000000   \n",
       "25%     10596.250000      0.207583  0.000000e+00  0.000000e+00     90.000000   \n",
       "50%     20669.000000      0.383856  0.000000e+00  0.000000e+00     99.000000   \n",
       "75%     75610.000000      0.713817  1.500000e+07  2.400000e+07    111.000000   \n",
       "max    417859.000000     32.985763  4.250000e+08  2.781506e+09    900.000000   \n",
       "\n",
       "         vote_count  vote_average  release_year    budget_adj   revenue_adj  \n",
       "count  10866.000000  10866.000000  10866.000000  1.086600e+04  1.086600e+04  \n",
       "mean     217.389748      5.974922   2001.322658  1.755104e+07  5.136436e+07  \n",
       "std      575.619058      0.935142     12.812941  3.430616e+07  1.446325e+08  \n",
       "min       10.000000      1.500000   1960.000000  0.000000e+00  0.000000e+00  \n",
       "25%       17.000000      5.400000   1995.000000  0.000000e+00  0.000000e+00  \n",
       "50%       38.000000      6.000000   2006.000000  0.000000e+00  0.000000e+00  \n",
       "75%      145.750000      6.600000   2011.000000  2.085325e+07  3.369710e+07  \n",
       "max     9767.000000      9.200000   2015.000000  4.250000e+08  2.827124e+09  "
      ]
     },
     "execution_count": 295,
     "metadata": {},
     "output_type": "execute_result"
    }
   ],
   "source": [
    "# preview statistics about the dataset\n",
    "df.describe()"
   ]
  },
  {
   "cell_type": "code",
   "execution_count": 296,
   "metadata": {},
   "outputs": [
    {
     "data": {
      "text/plain": [
       "(10866, 21)"
      ]
     },
     "execution_count": 296,
     "metadata": {},
     "output_type": "execute_result"
    }
   ],
   "source": [
    "# check the shape to know the # of rows and columns\n",
    "df.shape"
   ]
  },
  {
   "cell_type": "markdown",
   "metadata": {},
   "source": [
    "#### The original dataset contains a total of 10866 entries with 21 columns"
   ]
  },
  {
   "cell_type": "markdown",
   "metadata": {},
   "source": [
    "<span id='assume'><strong>Assumption:</strong></span>\n",
    "The statistics reveal that budgets and revenues for over 50% of the movies in the dataset are zero. According to [Kaggle](https://www.kaggle.com/tmdb/tmdb-movie-metadata/home),\n",
    "\n",
    "> <q>It's probably a good idea to keep treating zeros as missing, with the caveat that missing budgets much more likely to have been from small budget films in the first place.</q>\n",
    "\n",
    "Therefore, this project assumes a zero value for these columns 'budget' and 'revenue' as a missing value. These rows would be dropped during data cleaning."
   ]
  },
  {
   "cell_type": "markdown",
   "metadata": {},
   "source": [
    "\n",
    "### Data Cleaning "
   ]
  },
  {
   "cell_type": "markdown",
   "metadata": {},
   "source": [
    "#### Remove rows with zero (0) budgets and renevues as indicated <a href='#assume'>here</a>"
   ]
  },
  {
   "cell_type": "code",
   "execution_count": 297,
   "metadata": {
    "scrolled": true
   },
   "outputs": [
    {
     "data": {
      "text/html": [
       "<div>\n",
       "<style>\n",
       "    .dataframe thead tr:only-child th {\n",
       "        text-align: right;\n",
       "    }\n",
       "\n",
       "    .dataframe thead th {\n",
       "        text-align: left;\n",
       "    }\n",
       "\n",
       "    .dataframe tbody tr th {\n",
       "        vertical-align: top;\n",
       "    }\n",
       "</style>\n",
       "<table border=\"1\" class=\"dataframe\">\n",
       "  <thead>\n",
       "    <tr style=\"text-align: right;\">\n",
       "      <th></th>\n",
       "      <th>id</th>\n",
       "      <th>popularity</th>\n",
       "      <th>budget</th>\n",
       "      <th>revenue</th>\n",
       "      <th>runtime</th>\n",
       "      <th>vote_count</th>\n",
       "      <th>vote_average</th>\n",
       "      <th>release_year</th>\n",
       "      <th>budget_adj</th>\n",
       "      <th>revenue_adj</th>\n",
       "    </tr>\n",
       "  </thead>\n",
       "  <tbody>\n",
       "    <tr>\n",
       "      <th>count</th>\n",
       "      <td>3855.000000</td>\n",
       "      <td>3855.000000</td>\n",
       "      <td>3.855000e+03</td>\n",
       "      <td>3.855000e+03</td>\n",
       "      <td>3855.000000</td>\n",
       "      <td>3855.000000</td>\n",
       "      <td>3855.00000</td>\n",
       "      <td>3855.000000</td>\n",
       "      <td>3.855000e+03</td>\n",
       "      <td>3.855000e+03</td>\n",
       "    </tr>\n",
       "    <tr>\n",
       "      <th>mean</th>\n",
       "      <td>39888.783398</td>\n",
       "      <td>1.191400</td>\n",
       "      <td>3.720183e+07</td>\n",
       "      <td>1.076589e+08</td>\n",
       "      <td>109.215824</td>\n",
       "      <td>527.611933</td>\n",
       "      <td>6.16786</td>\n",
       "      <td>2001.263294</td>\n",
       "      <td>4.423630e+07</td>\n",
       "      <td>1.370294e+08</td>\n",
       "    </tr>\n",
       "    <tr>\n",
       "      <th>std</th>\n",
       "      <td>67213.815955</td>\n",
       "      <td>1.475002</td>\n",
       "      <td>4.220291e+07</td>\n",
       "      <td>1.765248e+08</td>\n",
       "      <td>19.922166</td>\n",
       "      <td>879.868374</td>\n",
       "      <td>0.79504</td>\n",
       "      <td>11.281989</td>\n",
       "      <td>4.480403e+07</td>\n",
       "      <td>2.160944e+08</td>\n",
       "    </tr>\n",
       "    <tr>\n",
       "      <th>min</th>\n",
       "      <td>5.000000</td>\n",
       "      <td>0.001117</td>\n",
       "      <td>1.000000e+00</td>\n",
       "      <td>2.000000e+00</td>\n",
       "      <td>15.000000</td>\n",
       "      <td>10.000000</td>\n",
       "      <td>2.20000</td>\n",
       "      <td>1960.000000</td>\n",
       "      <td>9.693980e-01</td>\n",
       "      <td>2.370705e+00</td>\n",
       "    </tr>\n",
       "    <tr>\n",
       "      <th>25%</th>\n",
       "      <td>6074.000000</td>\n",
       "      <td>0.462448</td>\n",
       "      <td>1.000000e+07</td>\n",
       "      <td>1.357645e+07</td>\n",
       "      <td>95.000000</td>\n",
       "      <td>71.000000</td>\n",
       "      <td>5.70000</td>\n",
       "      <td>1995.000000</td>\n",
       "      <td>1.309053e+07</td>\n",
       "      <td>1.834123e+07</td>\n",
       "    </tr>\n",
       "    <tr>\n",
       "      <th>50%</th>\n",
       "      <td>11322.000000</td>\n",
       "      <td>0.797298</td>\n",
       "      <td>2.400000e+07</td>\n",
       "      <td>4.479322e+07</td>\n",
       "      <td>106.000000</td>\n",
       "      <td>204.000000</td>\n",
       "      <td>6.20000</td>\n",
       "      <td>2004.000000</td>\n",
       "      <td>3.001558e+07</td>\n",
       "      <td>6.171861e+07</td>\n",
       "    </tr>\n",
       "    <tr>\n",
       "      <th>75%</th>\n",
       "      <td>38577.000000</td>\n",
       "      <td>1.368245</td>\n",
       "      <td>5.000000e+07</td>\n",
       "      <td>1.241530e+08</td>\n",
       "      <td>119.000000</td>\n",
       "      <td>580.000000</td>\n",
       "      <td>6.70000</td>\n",
       "      <td>2010.000000</td>\n",
       "      <td>6.061307e+07</td>\n",
       "      <td>1.632401e+08</td>\n",
       "    </tr>\n",
       "    <tr>\n",
       "      <th>max</th>\n",
       "      <td>417859.000000</td>\n",
       "      <td>32.985763</td>\n",
       "      <td>4.250000e+08</td>\n",
       "      <td>2.781506e+09</td>\n",
       "      <td>338.000000</td>\n",
       "      <td>9767.000000</td>\n",
       "      <td>8.40000</td>\n",
       "      <td>2015.000000</td>\n",
       "      <td>4.250000e+08</td>\n",
       "      <td>2.827124e+09</td>\n",
       "    </tr>\n",
       "  </tbody>\n",
       "</table>\n",
       "</div>"
      ],
      "text/plain": [
       "                  id   popularity        budget       revenue      runtime  \\\n",
       "count    3855.000000  3855.000000  3.855000e+03  3.855000e+03  3855.000000   \n",
       "mean    39888.783398     1.191400  3.720183e+07  1.076589e+08   109.215824   \n",
       "std     67213.815955     1.475002  4.220291e+07  1.765248e+08    19.922166   \n",
       "min         5.000000     0.001117  1.000000e+00  2.000000e+00    15.000000   \n",
       "25%      6074.000000     0.462448  1.000000e+07  1.357645e+07    95.000000   \n",
       "50%     11322.000000     0.797298  2.400000e+07  4.479322e+07   106.000000   \n",
       "75%     38577.000000     1.368245  5.000000e+07  1.241530e+08   119.000000   \n",
       "max    417859.000000    32.985763  4.250000e+08  2.781506e+09   338.000000   \n",
       "\n",
       "        vote_count  vote_average  release_year    budget_adj   revenue_adj  \n",
       "count  3855.000000    3855.00000   3855.000000  3.855000e+03  3.855000e+03  \n",
       "mean    527.611933       6.16786   2001.263294  4.423630e+07  1.370294e+08  \n",
       "std     879.868374       0.79504     11.281989  4.480403e+07  2.160944e+08  \n",
       "min      10.000000       2.20000   1960.000000  9.693980e-01  2.370705e+00  \n",
       "25%      71.000000       5.70000   1995.000000  1.309053e+07  1.834123e+07  \n",
       "50%     204.000000       6.20000   2004.000000  3.001558e+07  6.171861e+07  \n",
       "75%     580.000000       6.70000   2010.000000  6.061307e+07  1.632401e+08  \n",
       "max    9767.000000       8.40000   2015.000000  4.250000e+08  2.827124e+09  "
      ]
     },
     "execution_count": 297,
     "metadata": {},
     "output_type": "execute_result"
    }
   ],
   "source": [
    "df = df[(df.budget!=0) & (df.revenue!=0)]\n",
    "df.describe()"
   ]
  },
  {
   "cell_type": "code",
   "execution_count": 298,
   "metadata": {},
   "outputs": [
    {
     "data": {
      "text/plain": [
       "(3855, 21)"
      ]
     },
     "execution_count": 298,
     "metadata": {},
     "output_type": "execute_result"
    }
   ],
   "source": [
    "# check the shape for the # of rows and columns after \n",
    "df.shape"
   ]
  },
  {
   "cell_type": "markdown",
   "metadata": {},
   "source": [
    "#### The following columns in the dataset are not relevant to the questions for this analysis, therefore, it will be better dropping them.\n",
    "<ul> \n",
    "    <li>imdb_id</li>\n",
    "    <li>homepage</li>\n",
    "    <li>director</li>\n",
    "    <li>tagline</li>\n",
    "    <li>keywords</li>\n",
    "    <li>overview</li>\n",
    "    <li>vote_average</li>\n",
    "    <li>release_date</li>\n",
    "    <li>release_year</li>\n",
    "    <li>budget_adj</li>\n",
    "    <li>revenue_adj</li>\n",
    "</ul>"
   ]
  },
  {
   "cell_type": "code",
   "execution_count": 299,
   "metadata": {},
   "outputs": [],
   "source": [
    "# drop columns which are not considered in this analysis\n",
    "drop_col_list = ['imdb_id', 'homepage', 'director', 'tagline', 'keywords', 'overview', 'vote_average', 'release_date', 'release_year', 'budget_adj', 'revenue_adj']\n",
    "df.drop(drop_col_list, axis=1, inplace=True)"
   ]
  },
  {
   "cell_type": "code",
   "execution_count": 300,
   "metadata": {},
   "outputs": [
    {
     "data": {
      "text/html": [
       "<div>\n",
       "<style>\n",
       "    .dataframe thead tr:only-child th {\n",
       "        text-align: right;\n",
       "    }\n",
       "\n",
       "    .dataframe thead th {\n",
       "        text-align: left;\n",
       "    }\n",
       "\n",
       "    .dataframe tbody tr th {\n",
       "        vertical-align: top;\n",
       "    }\n",
       "</style>\n",
       "<table border=\"1\" class=\"dataframe\">\n",
       "  <thead>\n",
       "    <tr style=\"text-align: right;\">\n",
       "      <th></th>\n",
       "      <th>id</th>\n",
       "      <th>popularity</th>\n",
       "      <th>budget</th>\n",
       "      <th>revenue</th>\n",
       "      <th>original_title</th>\n",
       "      <th>cast</th>\n",
       "      <th>runtime</th>\n",
       "      <th>genres</th>\n",
       "      <th>production_companies</th>\n",
       "      <th>vote_count</th>\n",
       "    </tr>\n",
       "  </thead>\n",
       "  <tbody>\n",
       "    <tr>\n",
       "      <th>0</th>\n",
       "      <td>135397</td>\n",
       "      <td>32.985763</td>\n",
       "      <td>150000000</td>\n",
       "      <td>1513528810</td>\n",
       "      <td>Jurassic World</td>\n",
       "      <td>Chris Pratt|Bryce Dallas Howard|Irrfan Khan|Vi...</td>\n",
       "      <td>124</td>\n",
       "      <td>Action|Adventure|Science Fiction|Thriller</td>\n",
       "      <td>Universal Studios|Amblin Entertainment|Legenda...</td>\n",
       "      <td>5562</td>\n",
       "    </tr>\n",
       "    <tr>\n",
       "      <th>1</th>\n",
       "      <td>76341</td>\n",
       "      <td>28.419936</td>\n",
       "      <td>150000000</td>\n",
       "      <td>378436354</td>\n",
       "      <td>Mad Max: Fury Road</td>\n",
       "      <td>Tom Hardy|Charlize Theron|Hugh Keays-Byrne|Nic...</td>\n",
       "      <td>120</td>\n",
       "      <td>Action|Adventure|Science Fiction|Thriller</td>\n",
       "      <td>Village Roadshow Pictures|Kennedy Miller Produ...</td>\n",
       "      <td>6185</td>\n",
       "    </tr>\n",
       "  </tbody>\n",
       "</table>\n",
       "</div>"
      ],
      "text/plain": [
       "       id  popularity     budget     revenue      original_title  \\\n",
       "0  135397   32.985763  150000000  1513528810      Jurassic World   \n",
       "1   76341   28.419936  150000000   378436354  Mad Max: Fury Road   \n",
       "\n",
       "                                                cast  runtime  \\\n",
       "0  Chris Pratt|Bryce Dallas Howard|Irrfan Khan|Vi...      124   \n",
       "1  Tom Hardy|Charlize Theron|Hugh Keays-Byrne|Nic...      120   \n",
       "\n",
       "                                      genres  \\\n",
       "0  Action|Adventure|Science Fiction|Thriller   \n",
       "1  Action|Adventure|Science Fiction|Thriller   \n",
       "\n",
       "                                production_companies  vote_count  \n",
       "0  Universal Studios|Amblin Entertainment|Legenda...        5562  \n",
       "1  Village Roadshow Pictures|Kennedy Miller Produ...        6185  "
      ]
     },
     "execution_count": 300,
     "metadata": {},
     "output_type": "execute_result"
    }
   ],
   "source": [
    "# preview after dropping columns\n",
    "df.head(2)"
   ]
  },
  {
   "cell_type": "markdown",
   "metadata": {},
   "source": [
    "#### Rename vote_count column to user_rating"
   ]
  },
  {
   "cell_type": "code",
   "execution_count": 301,
   "metadata": {},
   "outputs": [],
   "source": [
    "df.rename(index=str, columns={\"vote_count\": \"user_rating\"}, inplace=True)"
   ]
  },
  {
   "cell_type": "markdown",
   "metadata": {},
   "source": [
    "#### Check the dataset for nulls."
   ]
  },
  {
   "cell_type": "code",
   "execution_count": 302,
   "metadata": {},
   "outputs": [
    {
     "data": {
      "text/plain": [
       "id                       0\n",
       "popularity               0\n",
       "budget                   0\n",
       "revenue                  0\n",
       "original_title           0\n",
       "cast                     4\n",
       "runtime                  0\n",
       "genres                   0\n",
       "production_companies    46\n",
       "user_rating              0\n",
       "dtype: int64"
      ]
     },
     "execution_count": 302,
     "metadata": {},
     "output_type": "execute_result"
    }
   ],
   "source": [
    "# check for nulls\n",
    "df.isnull().sum()"
   ]
  },
  {
   "cell_type": "markdown",
   "metadata": {},
   "source": [
    "The above shows that the dataset contains null values. However, those are mostly string type columns. The most appropriate step is to drop them since there is no meaningful way to fill them up.  "
   ]
  },
  {
   "cell_type": "code",
   "execution_count": 303,
   "metadata": {},
   "outputs": [],
   "source": [
    "# drop rows with any null values \n",
    "df.dropna(inplace=True)"
   ]
  },
  {
   "cell_type": "code",
   "execution_count": 304,
   "metadata": {},
   "outputs": [
    {
     "data": {
      "text/plain": [
       "False"
      ]
     },
     "execution_count": 304,
     "metadata": {},
     "output_type": "execute_result"
    }
   ],
   "source": [
    "# checks if any column has null values\n",
    "df.isnull().sum().any()"
   ]
  },
  {
   "cell_type": "markdown",
   "metadata": {},
   "source": [
    "#### Check the dataset for duplicate rows."
   ]
  },
  {
   "cell_type": "code",
   "execution_count": 305,
   "metadata": {},
   "outputs": [
    {
     "name": "stdout",
     "output_type": "stream",
     "text": [
      "1\n"
     ]
    }
   ],
   "source": [
    "# print number of duplicates dataset\n",
    "print(sum(df.duplicated()))"
   ]
  },
  {
   "cell_type": "markdown",
   "metadata": {},
   "source": [
    "####  Remove duplicate rows"
   ]
  },
  {
   "cell_type": "code",
   "execution_count": 306,
   "metadata": {},
   "outputs": [
    {
     "name": "stdout",
     "output_type": "stream",
     "text": [
      "0\n"
     ]
    }
   ],
   "source": [
    "# drop duplicates\n",
    "df.drop_duplicates(inplace=True)\n",
    "\n",
    "# confirm removal of duplicates\n",
    "print(sum(df.duplicated()))"
   ]
  },
  {
   "cell_type": "code",
   "execution_count": 307,
   "metadata": {},
   "outputs": [
    {
     "data": {
      "text/plain": [
       "(3806, 10)"
      ]
     },
     "execution_count": 307,
     "metadata": {},
     "output_type": "execute_result"
    }
   ],
   "source": [
    "# check the shape after cleaning\n",
    "df.shape"
   ]
  },
  {
   "cell_type": "markdown",
   "metadata": {},
   "source": [
    "#### The dataset, after cleansing, contains a total of 3806 entries with 10 columns"
   ]
  },
  {
   "cell_type": "code",
   "execution_count": 308,
   "metadata": {},
   "outputs": [
    {
     "data": {
      "text/html": [
       "<div>\n",
       "<style>\n",
       "    .dataframe thead tr:only-child th {\n",
       "        text-align: right;\n",
       "    }\n",
       "\n",
       "    .dataframe thead th {\n",
       "        text-align: left;\n",
       "    }\n",
       "\n",
       "    .dataframe tbody tr th {\n",
       "        vertical-align: top;\n",
       "    }\n",
       "</style>\n",
       "<table border=\"1\" class=\"dataframe\">\n",
       "  <thead>\n",
       "    <tr style=\"text-align: right;\">\n",
       "      <th></th>\n",
       "      <th>id</th>\n",
       "      <th>popularity</th>\n",
       "      <th>budget</th>\n",
       "      <th>revenue</th>\n",
       "      <th>runtime</th>\n",
       "      <th>user_rating</th>\n",
       "    </tr>\n",
       "  </thead>\n",
       "  <tbody>\n",
       "    <tr>\n",
       "      <th>count</th>\n",
       "      <td>3806.000000</td>\n",
       "      <td>3806.000000</td>\n",
       "      <td>3.806000e+03</td>\n",
       "      <td>3.806000e+03</td>\n",
       "      <td>3806.000000</td>\n",
       "      <td>3806.000000</td>\n",
       "    </tr>\n",
       "    <tr>\n",
       "      <th>mean</th>\n",
       "      <td>40033.916185</td>\n",
       "      <td>1.203507</td>\n",
       "      <td>3.759921e+07</td>\n",
       "      <td>1.089477e+08</td>\n",
       "      <td>109.362585</td>\n",
       "      <td>534.021545</td>\n",
       "    </tr>\n",
       "    <tr>\n",
       "      <th>std</th>\n",
       "      <td>67578.000757</td>\n",
       "      <td>1.480473</td>\n",
       "      <td>4.231970e+07</td>\n",
       "      <td>1.772814e+08</td>\n",
       "      <td>19.855679</td>\n",
       "      <td>883.682139</td>\n",
       "    </tr>\n",
       "    <tr>\n",
       "      <th>min</th>\n",
       "      <td>5.000000</td>\n",
       "      <td>0.010335</td>\n",
       "      <td>1.000000e+00</td>\n",
       "      <td>2.000000e+00</td>\n",
       "      <td>15.000000</td>\n",
       "      <td>10.000000</td>\n",
       "    </tr>\n",
       "    <tr>\n",
       "      <th>25%</th>\n",
       "      <td>5932.500000</td>\n",
       "      <td>0.470635</td>\n",
       "      <td>1.000000e+07</td>\n",
       "      <td>1.429262e+07</td>\n",
       "      <td>96.000000</td>\n",
       "      <td>74.000000</td>\n",
       "    </tr>\n",
       "    <tr>\n",
       "      <th>50%</th>\n",
       "      <td>11255.000000</td>\n",
       "      <td>0.810226</td>\n",
       "      <td>2.500000e+07</td>\n",
       "      <td>4.620904e+07</td>\n",
       "      <td>106.000000</td>\n",
       "      <td>208.500000</td>\n",
       "    </tr>\n",
       "    <tr>\n",
       "      <th>75%</th>\n",
       "      <td>38578.000000</td>\n",
       "      <td>1.387058</td>\n",
       "      <td>5.000000e+07</td>\n",
       "      <td>1.260625e+08</td>\n",
       "      <td>119.000000</td>\n",
       "      <td>584.000000</td>\n",
       "    </tr>\n",
       "    <tr>\n",
       "      <th>max</th>\n",
       "      <td>417859.000000</td>\n",
       "      <td>32.985763</td>\n",
       "      <td>4.250000e+08</td>\n",
       "      <td>2.781506e+09</td>\n",
       "      <td>338.000000</td>\n",
       "      <td>9767.000000</td>\n",
       "    </tr>\n",
       "  </tbody>\n",
       "</table>\n",
       "</div>"
      ],
      "text/plain": [
       "                  id   popularity        budget       revenue      runtime  \\\n",
       "count    3806.000000  3806.000000  3.806000e+03  3.806000e+03  3806.000000   \n",
       "mean    40033.916185     1.203507  3.759921e+07  1.089477e+08   109.362585   \n",
       "std     67578.000757     1.480473  4.231970e+07  1.772814e+08    19.855679   \n",
       "min         5.000000     0.010335  1.000000e+00  2.000000e+00    15.000000   \n",
       "25%      5932.500000     0.470635  1.000000e+07  1.429262e+07    96.000000   \n",
       "50%     11255.000000     0.810226  2.500000e+07  4.620904e+07   106.000000   \n",
       "75%     38578.000000     1.387058  5.000000e+07  1.260625e+08   119.000000   \n",
       "max    417859.000000    32.985763  4.250000e+08  2.781506e+09   338.000000   \n",
       "\n",
       "       user_rating  \n",
       "count  3806.000000  \n",
       "mean    534.021545  \n",
       "std     883.682139  \n",
       "min      10.000000  \n",
       "25%      74.000000  \n",
       "50%     208.500000  \n",
       "75%     584.000000  \n",
       "max    9767.000000  "
      ]
     },
     "execution_count": 308,
     "metadata": {},
     "output_type": "execute_result"
    }
   ],
   "source": [
    "df.describe()"
   ]
  },
  {
   "cell_type": "markdown",
   "metadata": {},
   "source": [
    "<a id='eda'></a>\n",
    "## Exploratory Data Analysis"
   ]
  },
  {
   "cell_type": "markdown",
   "metadata": {},
   "source": [
    "<span id='q1'> </span>\n",
    "### Question 1. Which movie has the highest Budget?\n",
    "<a href='#toc'>Top</a>"
   ]
  },
  {
   "cell_type": "markdown",
   "metadata": {},
   "source": [
    ">Compute the movie with the highest budget using idxmax()"
   ]
  },
  {
   "cell_type": "code",
   "execution_count": 309,
   "metadata": {},
   "outputs": [
    {
     "data": {
      "text/html": [
       "<div>\n",
       "<style>\n",
       "    .dataframe thead tr:only-child th {\n",
       "        text-align: right;\n",
       "    }\n",
       "\n",
       "    .dataframe thead th {\n",
       "        text-align: left;\n",
       "    }\n",
       "\n",
       "    .dataframe tbody tr th {\n",
       "        vertical-align: top;\n",
       "    }\n",
       "</style>\n",
       "<table border=\"1\" class=\"dataframe\">\n",
       "  <thead>\n",
       "    <tr style=\"text-align: right;\">\n",
       "      <th></th>\n",
       "      <th>original_title</th>\n",
       "      <th>budget</th>\n",
       "    </tr>\n",
       "  </thead>\n",
       "  <tbody>\n",
       "    <tr>\n",
       "      <th>2244</th>\n",
       "      <td>The Warrior's Way</td>\n",
       "      <td>425000000</td>\n",
       "    </tr>\n",
       "  </tbody>\n",
       "</table>\n",
       "</div>"
      ],
      "text/plain": [
       "         original_title     budget\n",
       "2244  The Warrior's Way  425000000"
      ]
     },
     "execution_count": 309,
     "metadata": {},
     "output_type": "execute_result"
    }
   ],
   "source": [
    "# max budget movie \n",
    "df[['original_title', 'budget']].query('budget == {}'.format(df['budget'].max()))#['budget'].max()"
   ]
  },
  {
   "cell_type": "code",
   "execution_count": 310,
   "metadata": {},
   "outputs": [
    {
     "data": {
      "image/png": "[encoded data removed]",
      "text/plain": [
       "<matplotlib.figure.Figure at 0x7f582e155668>"
      ]
     },
     "metadata": {},
     "output_type": "display_data"
    }
   ],
   "source": [
    "plot=df['budget'].plot(kind='hist',figsize=(8,8), title='Budget (in Million)');\n",
    "plot.set_xlabel(\"budget\");"
   ]
  },
  {
   "cell_type": "markdown",
   "metadata": {},
   "source": [
    "Histogram for Budget is skewed to the right. The median would be a better measure of central tendency for this distribution."
   ]
  },
  {
   "cell_type": "markdown",
   "metadata": {},
   "source": [
    "<span id='q2'> </span>\n",
    "### Question 2. Which movie generated the highest Revenue and Profit?\n",
    "<a href='#toc'>Top</a>"
   ]
  },
  {
   "cell_type": "markdown",
   "metadata": {},
   "source": [
    "> Add a profit column to df. Compute the average profit for each movie."
   ]
  },
  {
   "cell_type": "code",
   "execution_count": 311,
   "metadata": {},
   "outputs": [
    {
     "data": {
      "text/html": [
       "<div>\n",
       "<style>\n",
       "    .dataframe thead tr:only-child th {\n",
       "        text-align: right;\n",
       "    }\n",
       "\n",
       "    .dataframe thead th {\n",
       "        text-align: left;\n",
       "    }\n",
       "\n",
       "    .dataframe tbody tr th {\n",
       "        vertical-align: top;\n",
       "    }\n",
       "</style>\n",
       "<table border=\"1\" class=\"dataframe\">\n",
       "  <thead>\n",
       "    <tr style=\"text-align: right;\">\n",
       "      <th></th>\n",
       "      <th>id</th>\n",
       "      <th>popularity</th>\n",
       "      <th>budget</th>\n",
       "      <th>revenue</th>\n",
       "      <th>original_title</th>\n",
       "      <th>cast</th>\n",
       "      <th>runtime</th>\n",
       "      <th>genres</th>\n",
       "      <th>production_companies</th>\n",
       "      <th>user_rating</th>\n",
       "      <th>profit</th>\n",
       "    </tr>\n",
       "  </thead>\n",
       "  <tbody>\n",
       "    <tr>\n",
       "      <th>0</th>\n",
       "      <td>135397</td>\n",
       "      <td>32.985763</td>\n",
       "      <td>150000000</td>\n",
       "      <td>1513528810</td>\n",
       "      <td>Jurassic World</td>\n",
       "      <td>Chris Pratt|Bryce Dallas Howard|Irrfan Khan|Vi...</td>\n",
       "      <td>124</td>\n",
       "      <td>Action|Adventure|Science Fiction|Thriller</td>\n",
       "      <td>Universal Studios|Amblin Entertainment|Legenda...</td>\n",
       "      <td>5562</td>\n",
       "      <td>1363528810</td>\n",
       "    </tr>\n",
       "    <tr>\n",
       "      <th>1</th>\n",
       "      <td>76341</td>\n",
       "      <td>28.419936</td>\n",
       "      <td>150000000</td>\n",
       "      <td>378436354</td>\n",
       "      <td>Mad Max: Fury Road</td>\n",
       "      <td>Tom Hardy|Charlize Theron|Hugh Keays-Byrne|Nic...</td>\n",
       "      <td>120</td>\n",
       "      <td>Action|Adventure|Science Fiction|Thriller</td>\n",
       "      <td>Village Roadshow Pictures|Kennedy Miller Produ...</td>\n",
       "      <td>6185</td>\n",
       "      <td>228436354</td>\n",
       "    </tr>\n",
       "  </tbody>\n",
       "</table>\n",
       "</div>"
      ],
      "text/plain": [
       "       id  popularity     budget     revenue      original_title  \\\n",
       "0  135397   32.985763  150000000  1513528810      Jurassic World   \n",
       "1   76341   28.419936  150000000   378436354  Mad Max: Fury Road   \n",
       "\n",
       "                                                cast  runtime  \\\n",
       "0  Chris Pratt|Bryce Dallas Howard|Irrfan Khan|Vi...      124   \n",
       "1  Tom Hardy|Charlize Theron|Hugh Keays-Byrne|Nic...      120   \n",
       "\n",
       "                                      genres  \\\n",
       "0  Action|Adventure|Science Fiction|Thriller   \n",
       "1  Action|Adventure|Science Fiction|Thriller   \n",
       "\n",
       "                                production_companies  user_rating      profit  \n",
       "0  Universal Studios|Amblin Entertainment|Legenda...         5562  1363528810  \n",
       "1  Village Roadshow Pictures|Kennedy Miller Produ...         6185   228436354  "
      ]
     },
     "execution_count": 311,
     "metadata": {},
     "output_type": "execute_result"
    }
   ],
   "source": [
    "# add 'profit' column to the df_genre.\n",
    "df['profit'] = df['revenue'] - df['budget']\n",
    "\n",
    "# preview to confirm addition of column\n",
    "df.head(2)"
   ]
  },
  {
   "cell_type": "code",
   "execution_count": 312,
   "metadata": {},
   "outputs": [
    {
     "data": {
      "text/html": [
       "<div>\n",
       "<style>\n",
       "    .dataframe thead tr:only-child th {\n",
       "        text-align: right;\n",
       "    }\n",
       "\n",
       "    .dataframe thead th {\n",
       "        text-align: left;\n",
       "    }\n",
       "\n",
       "    .dataframe tbody tr th {\n",
       "        vertical-align: top;\n",
       "    }\n",
       "</style>\n",
       "<table border=\"1\" class=\"dataframe\">\n",
       "  <thead>\n",
       "    <tr style=\"text-align: right;\">\n",
       "      <th></th>\n",
       "      <th>original_title</th>\n",
       "      <th>revenue</th>\n",
       "    </tr>\n",
       "  </thead>\n",
       "  <tbody>\n",
       "    <tr>\n",
       "      <th>1386</th>\n",
       "      <td>Avatar</td>\n",
       "      <td>2781505847</td>\n",
       "    </tr>\n",
       "  </tbody>\n",
       "</table>\n",
       "</div>"
      ],
      "text/plain": [
       "     original_title     revenue\n",
       "1386         Avatar  2781505847"
      ]
     },
     "execution_count": 312,
     "metadata": {},
     "output_type": "execute_result"
    }
   ],
   "source": [
    "# max revenue movie \n",
    "df[['original_title', 'revenue']].query('revenue == {}'.format(df['revenue'].max()))"
   ]
  },
  {
   "cell_type": "code",
   "execution_count": 313,
   "metadata": {},
   "outputs": [
    {
     "data": {
      "text/html": [
       "<div>\n",
       "<style>\n",
       "    .dataframe thead tr:only-child th {\n",
       "        text-align: right;\n",
       "    }\n",
       "\n",
       "    .dataframe thead th {\n",
       "        text-align: left;\n",
       "    }\n",
       "\n",
       "    .dataframe tbody tr th {\n",
       "        vertical-align: top;\n",
       "    }\n",
       "</style>\n",
       "<table border=\"1\" class=\"dataframe\">\n",
       "  <thead>\n",
       "    <tr style=\"text-align: right;\">\n",
       "      <th></th>\n",
       "      <th>original_title</th>\n",
       "      <th>profit</th>\n",
       "    </tr>\n",
       "  </thead>\n",
       "  <tbody>\n",
       "    <tr>\n",
       "      <th>1386</th>\n",
       "      <td>Avatar</td>\n",
       "      <td>2544505847</td>\n",
       "    </tr>\n",
       "  </tbody>\n",
       "</table>\n",
       "</div>"
      ],
      "text/plain": [
       "     original_title      profit\n",
       "1386         Avatar  2544505847"
      ]
     },
     "execution_count": 313,
     "metadata": {},
     "output_type": "execute_result"
    }
   ],
   "source": [
    "# max profit movie \n",
    "df[['original_title', 'profit']].query('profit == {}'.format(df['profit'].max()))"
   ]
  },
  {
   "cell_type": "code",
   "execution_count": 314,
   "metadata": {},
   "outputs": [
    {
     "data": {
      "image/png": "[encoded data removed]",
      "text/plain": [
       "<matplotlib.figure.Figure at 0x7f5832bd11d0>"
      ]
     },
     "metadata": {},
     "output_type": "display_data"
    }
   ],
   "source": [
    "plot=df['revenue'].plot(kind='hist',figsize=(8,8), title='Revenue (in billion)');\n",
    "plot.set_xlabel(\"revenue\");"
   ]
  },
  {
   "cell_type": "code",
   "execution_count": 315,
   "metadata": {},
   "outputs": [
    {
     "data": {
      "image/png": "[encoded data removed]",
      "text/plain": [
       "<matplotlib.figure.Figure at 0x7f582f870320>"
      ]
     },
     "metadata": {},
     "output_type": "display_data"
    }
   ],
   "source": [
    "plot=df['profit'].plot(kind='hist',figsize=(8,8), title='Profit (in billion)');\n",
    "plot.set_xlabel(\"profit\");"
   ]
  },
  {
   "cell_type": "markdown",
   "metadata": {},
   "source": [
    "Histogram for Revenue and Profit is also skewed to the right. The median would be a better measure of central tendency for these distribution."
   ]
  },
  {
   "cell_type": "markdown",
   "metadata": {},
   "source": [
    "<span id='q3'> </span>\n",
    "### Question 3. Which Genre is most produced?\n",
    "<a href='#toc'>Top</a>"
   ]
  },
  {
   "cell_type": "markdown",
   "metadata": {},
   "source": [
    ">The \"genres\" column is a multi-valued (i.e. each movie belongs to one or more genre). Therefore, I split the genre values and use the result to create rows for each genre. \n",
    "\n",
    ">To acheive this, I employed the str.split() function on the column values and then used itertools' chain.from_iterable() method [[1](https://realpython.com/python-itertools/)] to flatten all the splitted genres into a single list. To ensure that each genre appears only once, I encapsulated the result into a set object. "
   ]
  },
  {
   "cell_type": "code",
   "execution_count": 316,
   "metadata": {},
   "outputs": [],
   "source": [
    "import itertools as itl\n",
    "\n",
    "# split genres into individual genres and flatten to a set. This produces a set with unique genre entries.\n",
    "genre_list = set(itl.chain.from_iterable(df['genres'].str.split('|')))"
   ]
  },
  {
   "cell_type": "code",
   "execution_count": 317,
   "metadata": {
    "scrolled": true
   },
   "outputs": [
    {
     "data": {
      "text/html": [
       "<div>\n",
       "<style>\n",
       "    .dataframe thead tr:only-child th {\n",
       "        text-align: right;\n",
       "    }\n",
       "\n",
       "    .dataframe thead th {\n",
       "        text-align: left;\n",
       "    }\n",
       "\n",
       "    .dataframe tbody tr th {\n",
       "        vertical-align: top;\n",
       "    }\n",
       "</style>\n",
       "<table border=\"1\" class=\"dataframe\">\n",
       "  <thead>\n",
       "    <tr style=\"text-align: right;\">\n",
       "      <th></th>\n",
       "      <th>id</th>\n",
       "      <th>popularity</th>\n",
       "      <th>budget</th>\n",
       "      <th>revenue</th>\n",
       "      <th>original_title</th>\n",
       "      <th>cast</th>\n",
       "      <th>runtime</th>\n",
       "      <th>genres</th>\n",
       "      <th>production_companies</th>\n",
       "      <th>user_rating</th>\n",
       "      <th>profit</th>\n",
       "    </tr>\n",
       "  </thead>\n",
       "  <tbody>\n",
       "    <tr>\n",
       "      <th>32</th>\n",
       "      <td>254470</td>\n",
       "      <td>3.877764</td>\n",
       "      <td>29000000</td>\n",
       "      <td>287506194</td>\n",
       "      <td>Pitch Perfect 2</td>\n",
       "      <td>Anna Kendrick|Rebel Wilson|Hailee Steinfeld|Br...</td>\n",
       "      <td>115</td>\n",
       "      <td>Music</td>\n",
       "      <td>Universal Pictures|Gold Circle Films|Brownston...</td>\n",
       "      <td>1264</td>\n",
       "      <td>258506194</td>\n",
       "    </tr>\n",
       "    <tr>\n",
       "      <th>40</th>\n",
       "      <td>277216</td>\n",
       "      <td>3.202719</td>\n",
       "      <td>28000000</td>\n",
       "      <td>201634991</td>\n",
       "      <td>Straight Outta Compton</td>\n",
       "      <td>O'Shea Jackson Jr.|Corey Hawkins|Jason Mitchel...</td>\n",
       "      <td>147</td>\n",
       "      <td>Music</td>\n",
       "      <td>New Line Cinema|Universal Pictures|Legendary P...</td>\n",
       "      <td>918</td>\n",
       "      <td>173634991</td>\n",
       "    </tr>\n",
       "  </tbody>\n",
       "</table>\n",
       "</div>"
      ],
      "text/plain": [
       "        id  popularity    budget    revenue          original_title  \\\n",
       "32  254470    3.877764  29000000  287506194         Pitch Perfect 2   \n",
       "40  277216    3.202719  28000000  201634991  Straight Outta Compton   \n",
       "\n",
       "                                                 cast  runtime genres  \\\n",
       "32  Anna Kendrick|Rebel Wilson|Hailee Steinfeld|Br...      115  Music   \n",
       "40  O'Shea Jackson Jr.|Corey Hawkins|Jason Mitchel...      147  Music   \n",
       "\n",
       "                                 production_companies  user_rating     profit  \n",
       "32  Universal Pictures|Gold Circle Films|Brownston...         1264  258506194  \n",
       "40  New Line Cinema|Universal Pictures|Legendary P...          918  173634991  "
      ]
     },
     "execution_count": 317,
     "metadata": {},
     "output_type": "execute_result"
    }
   ],
   "source": [
    "#define an empty dataframe\n",
    "df_genre = df[df['genres'] == 'dummy']\n",
    "\n",
    "# iterate over the set of genre and use it to separate rows containing multiple genres\n",
    "for g in genre_list:\n",
    "    # select all rows that contain genre contained in g.\n",
    "    dfg = df[df['genres'].str.contains(g)].copy() \n",
    "    # replace the column of the returned rows with the current genre \n",
    "    dfg['genres'] = g\n",
    "    # append results to df_genre\n",
    "    df_genre = df_genre.append(dfg)\n",
    "df_genre.head(2)"
   ]
  },
  {
   "cell_type": "code",
   "execution_count": 318,
   "metadata": {},
   "outputs": [
    {
     "data": {
      "text/plain": [
       "genres\n",
       "Action             1076\n",
       "Adventure           743\n",
       "Animation           199\n",
       "Comedy             1336\n",
       "Crime               649\n",
       "Documentary          26\n",
       "Drama              1730\n",
       "Family              417\n",
       "Fantasy             395\n",
       "Foreign              10\n",
       "History             128\n",
       "Horror              459\n",
       "Music               131\n",
       "Mystery             343\n",
       "Romance             659\n",
       "Science Fiction     517\n",
       "TV Movie              1\n",
       "Thriller           1194\n",
       "War                 119\n",
       "Western              52\n",
       "Name: id, dtype: int64"
      ]
     },
     "execution_count": 318,
     "metadata": {},
     "output_type": "execute_result"
    }
   ],
   "source": [
    "# Count production by movie genres\n",
    "genre_production_df = df_genre.groupby('genres').count()['id']\n",
    "genre_production_df"
   ]
  },
  {
   "cell_type": "code",
   "execution_count": 319,
   "metadata": {},
   "outputs": [
    {
     "data": {
      "text/plain": [
       "'Drama'"
      ]
     },
     "execution_count": 319,
     "metadata": {},
     "output_type": "execute_result"
    }
   ],
   "source": [
    "# max production \n",
    "genre_production_df.idxmax()"
   ]
  },
  {
   "cell_type": "code",
   "execution_count": 320,
   "metadata": {},
   "outputs": [
    {
     "data": {
      "text/plain": [
       "'TV Movie'"
      ]
     },
     "execution_count": 320,
     "metadata": {},
     "output_type": "execute_result"
    }
   ],
   "source": [
    "# min production \n",
    "genre_production_df.idxmin()"
   ]
  },
  {
   "cell_type": "code",
   "execution_count": 321,
   "metadata": {},
   "outputs": [
    {
     "data": {
      "image/png": "[encoded data removed]",
      "text/plain": [
       "<matplotlib.figure.Figure at 0x7f582fa5c940>"
      ]
     },
     "metadata": {},
     "output_type": "display_data"
    }
   ],
   "source": [
    "# bar graph of productions by movie genres\n",
    "plot=genre_production_df.plot.bar(figsize=(20,8), title='No. of Productions by Genres');\n",
    "plot.set_ylabel(\"no. of productions\");"
   ]
  },
  {
   "cell_type": "markdown",
   "metadata": {},
   "source": [
    "#### This graph shows that Drama is the most produced genre of movies while TV Movie is the least."
   ]
  },
  {
   "cell_type": "markdown",
   "metadata": {},
   "source": [
    "<span id='q4'> </span>\n",
    "### Question 4. Which Genre is most popular? \n",
    "<a href='#toc'>Top</a>"
   ]
  },
  {
   "cell_type": "markdown",
   "metadata": {},
   "source": [
    "> Compute the mean popularity for each genre and select the maximum value."
   ]
  },
  {
   "cell_type": "code",
   "execution_count": 322,
   "metadata": {},
   "outputs": [
    {
     "data": {
      "image/png": "[encoded data removed]",
      "text/plain": [
       "<matplotlib.figure.Figure at 0x7f582f500be0>"
      ]
     },
     "metadata": {},
     "output_type": "display_data"
    }
   ],
   "source": [
    "plot=df['popularity'].plot(kind='hist',figsize=(8,8), title='Popularity');\n",
    "plot.set_xlabel(\"popularity\");"
   ]
  },
  {
   "cell_type": "markdown",
   "metadata": {},
   "source": [
    "The distribution skewed to the right. The median would be a better measure of central tendency."
   ]
  },
  {
   "cell_type": "code",
   "execution_count": 323,
   "metadata": {
    "scrolled": false
   },
   "outputs": [
    {
     "data": {
      "text/plain": [
       "genres\n",
       "Action             1.013571\n",
       "Adventure          1.177428\n",
       "Animation          1.432796\n",
       "Comedy             0.778343\n",
       "Crime              0.811539\n",
       "Documentary        0.269543\n",
       "Drama              0.706539\n",
       "Family             1.089268\n",
       "Fantasy            1.241191\n",
       "Foreign            0.147924\n",
       "History            0.758072\n",
       "Horror             0.662175\n",
       "Music              0.633882\n",
       "Mystery            0.848473\n",
       "Romance            0.709235\n",
       "Science Fiction    1.068126\n",
       "TV Movie           0.273628\n",
       "Thriller           0.854977\n",
       "War                0.873616\n",
       "Western            0.682719\n",
       "Name: popularity, dtype: float64"
      ]
     },
     "execution_count": 323,
     "metadata": {},
     "output_type": "execute_result"
    }
   ],
   "source": [
    "# Median popularity by movie genres. \n",
    "mean_genre_popularity_df = df_genre.groupby('genres').median()['popularity']\n",
    "mean_genre_popularity_df"
   ]
  },
  {
   "cell_type": "code",
   "execution_count": 324,
   "metadata": {},
   "outputs": [
    {
     "data": {
      "text/plain": [
       "'Animation'"
      ]
     },
     "execution_count": 324,
     "metadata": {},
     "output_type": "execute_result"
    }
   ],
   "source": [
    "# max average popularity by genre\n",
    "mean_genre_popularity_df.idxmax()"
   ]
  },
  {
   "cell_type": "code",
   "execution_count": 325,
   "metadata": {},
   "outputs": [
    {
     "data": {
      "text/plain": [
       "'Foreign'"
      ]
     },
     "execution_count": 325,
     "metadata": {},
     "output_type": "execute_result"
    }
   ],
   "source": [
    "# min average popularity by genre \n",
    "mean_genre_popularity_df.idxmin()"
   ]
  },
  {
   "cell_type": "code",
   "execution_count": 326,
   "metadata": {
    "scrolled": false
   },
   "outputs": [
    {
     "data": {
      "image/png": "[encoded data removed]",
      "text/plain": [
       "<matplotlib.figure.Figure at 0x7f582ead3780>"
      ]
     },
     "metadata": {},
     "output_type": "display_data"
    }
   ],
   "source": [
    "# bar graph of popularity by movie genres\n",
    "plot=mean_genre_popularity_df.plot.bar(figsize=(20,8), title='Popularity by Genres');\n",
    "plot.set_ylabel(\"average popularity\");\n",
    "plot.legend();"
   ]
  },
  {
   "cell_type": "markdown",
   "metadata": {},
   "source": [
    "#### This graph shows that Animation is the most popular genre of movies while Foreign is the least"
   ]
  },
  {
   "cell_type": "markdown",
   "metadata": {},
   "source": [
    "<span id='q5'> </span>\n",
    "### Question 5. What Genre of movies received higher user ratings?\n",
    "<a href='#toc'>Top</a>"
   ]
  },
  {
   "cell_type": "markdown",
   "metadata": {},
   "source": [
    "> Compute the mean user rating for each genre and select the maximum value."
   ]
  },
  {
   "cell_type": "code",
   "execution_count": 327,
   "metadata": {},
   "outputs": [
    {
     "data": {
      "image/png": "[encoded data removed]",
      "text/plain": [
       "<matplotlib.figure.Figure at 0x7f582ea27080>"
      ]
     },
     "metadata": {},
     "output_type": "display_data"
    }
   ],
   "source": [
    "plot=df['user_rating'].plot(kind='hist',figsize=(8,8), title='User rating');\n",
    "plot.set_xlabel(\"user ratings\");"
   ]
  },
  {
   "cell_type": "markdown",
   "metadata": {},
   "source": [
    "The distribution skewed to the right. The median would be a better measure of central tendency."
   ]
  },
  {
   "cell_type": "code",
   "execution_count": 328,
   "metadata": {
    "scrolled": false
   },
   "outputs": [
    {
     "data": {
      "text/plain": [
       "genres\n",
       "Action             306.0\n",
       "Adventure          391.0\n",
       "Animation          545.0\n",
       "Comedy             196.0\n",
       "Crime              215.0\n",
       "Documentary         60.5\n",
       "Drama              165.0\n",
       "Family             331.0\n",
       "Fantasy            451.0\n",
       "Foreign             16.0\n",
       "History            200.5\n",
       "Horror             162.0\n",
       "Music              138.0\n",
       "Mystery            215.0\n",
       "Romance            167.0\n",
       "Science Fiction    362.0\n",
       "TV Movie            35.0\n",
       "Thriller           233.0\n",
       "War                270.0\n",
       "Western            153.5\n",
       "Name: user_rating, dtype: float64"
      ]
     },
     "execution_count": 328,
     "metadata": {},
     "output_type": "execute_result"
    }
   ],
   "source": [
    "# Median user rating by movie genres\n",
    "mean_genre_user_rating_df = df_genre.groupby('genres').median()['user_rating']\n",
    "mean_genre_user_rating_df"
   ]
  },
  {
   "cell_type": "code",
   "execution_count": 329,
   "metadata": {},
   "outputs": [
    {
     "data": {
      "text/plain": [
       "'Animation'"
      ]
     },
     "execution_count": 329,
     "metadata": {},
     "output_type": "execute_result"
    }
   ],
   "source": [
    "# max average user rating by genre\n",
    "mean_genre_user_rating_df.idxmax()"
   ]
  },
  {
   "cell_type": "code",
   "execution_count": 330,
   "metadata": {},
   "outputs": [
    {
     "data": {
      "text/plain": [
       "'Foreign'"
      ]
     },
     "execution_count": 330,
     "metadata": {},
     "output_type": "execute_result"
    }
   ],
   "source": [
    "# min average user rating by genre \n",
    "mean_genre_user_rating_df.idxmin()"
   ]
  },
  {
   "cell_type": "code",
   "execution_count": 331,
   "metadata": {
    "scrolled": false
   },
   "outputs": [
    {
     "data": {
      "image/png": "[encoded data removed]",
      "text/plain": [
       "<matplotlib.figure.Figure at 0x7f582ea2dac8>"
      ]
     },
     "metadata": {},
     "output_type": "display_data"
    }
   ],
   "source": [
    "# bar graph of user rating by movie genres\n",
    "plot=mean_genre_user_rating_df.plot.bar(figsize=(20,8), title='User rating by Genres');\n",
    "plot.set_ylabel(\"average user rating\");\n",
    "plot.legend();"
   ]
  },
  {
   "cell_type": "markdown",
   "metadata": {},
   "source": [
    "#### This graph reveals that Animation has the most user rating while Foreign is the least"
   ]
  },
  {
   "cell_type": "markdown",
   "metadata": {},
   "source": [
    "<span id='q6'> </span>\n",
    "### Question 6. Which genre of movies has big Budgets?\n",
    "<a href='#toc'>Top</a>"
   ]
  },
  {
   "cell_type": "markdown",
   "metadata": {},
   "source": [
    "> Compute the mean budget for each genre and select the max."
   ]
  },
  {
   "cell_type": "code",
   "execution_count": 332,
   "metadata": {},
   "outputs": [
    {
     "data": {
      "text/plain": [
       "genres\n",
       "Action             40000000.0\n",
       "Adventure          50000000.0\n",
       "Animation          75000000.0\n",
       "Comedy             24000000.0\n",
       "Crime              25000000.0\n",
       "Documentary         3250000.0\n",
       "Drama              20000000.0\n",
       "Family             50000000.0\n",
       "Fantasy            54000000.0\n",
       "Foreign             9188400.0\n",
       "History            29000000.0\n",
       "Horror             11000000.0\n",
       "Music              18000000.0\n",
       "Mystery            25000000.0\n",
       "Romance            20000000.0\n",
       "Science Fiction    37000000.0\n",
       "TV Movie            5000000.0\n",
       "Thriller           25000000.0\n",
       "War                26000000.0\n",
       "Western            30000000.0\n",
       "Name: budget, dtype: float64"
      ]
     },
     "execution_count": 332,
     "metadata": {},
     "output_type": "execute_result"
    }
   ],
   "source": [
    "# Average budget by movie genres\n",
    "mean_genre_budget_df = df_genre.groupby('genres').median()['budget']\n",
    "mean_genre_budget_df"
   ]
  },
  {
   "cell_type": "code",
   "execution_count": 333,
   "metadata": {},
   "outputs": [
    {
     "data": {
      "text/plain": [
       "'Animation'"
      ]
     },
     "execution_count": 333,
     "metadata": {},
     "output_type": "execute_result"
    }
   ],
   "source": [
    "# max average budget by genre\n",
    "mean_genre_budget_df.idxmax()"
   ]
  },
  {
   "cell_type": "code",
   "execution_count": 334,
   "metadata": {},
   "outputs": [
    {
     "data": {
      "text/plain": [
       "'Documentary'"
      ]
     },
     "execution_count": 334,
     "metadata": {},
     "output_type": "execute_result"
    }
   ],
   "source": [
    "# min average budget by genre\n",
    "mean_genre_budget_df.idxmin()"
   ]
  },
  {
   "cell_type": "code",
   "execution_count": 335,
   "metadata": {},
   "outputs": [
    {
     "data": {
      "image/png": "[encoded data removed]",
      "text/plain": [
       "<matplotlib.figure.Figure at 0x7f582e8b7550>"
      ]
     },
     "metadata": {},
     "output_type": "display_data"
    }
   ],
   "source": [
    "# bar graph of budget by movie genres\n",
    "plot=mean_genre_budget_df.plot.bar(figsize=(20,8), title='Budget by Genres');\n",
    "plot.set_ylabel(\"average budget\");\n",
    "plot.legend();"
   ]
  },
  {
   "cell_type": "markdown",
   "metadata": {},
   "source": [
    "This graph shows that __Animation__ has the highest ___budget___ while __Documentary__ is the least"
   ]
  },
  {
   "cell_type": "markdown",
   "metadata": {},
   "source": [
    "<span id='q7'> </span>\n",
    "### Question 7. Which genre of movies has highest Revenue?\n",
    "<a href='#toc'>Top</a>"
   ]
  },
  {
   "cell_type": "markdown",
   "metadata": {},
   "source": [
    "> Compute the mean revenue for each genre and select the max."
   ]
  },
  {
   "cell_type": "code",
   "execution_count": 336,
   "metadata": {},
   "outputs": [
    {
     "data": {
      "text/plain": [
       "genres\n",
       "Action              72704191.0\n",
       "Adventure          106303988.0\n",
       "Animation          171757863.0\n",
       "Comedy              48608666.5\n",
       "Crime               41637263.0\n",
       "Documentary         15832848.5\n",
       "Drama               33917691.5\n",
       "Family             112462508.0\n",
       "Fantasy            102272727.0\n",
       "Foreign              5954398.5\n",
       "History             54899142.5\n",
       "Horror              29999213.0\n",
       "Music               47383689.0\n",
       "Mystery             38502340.0\n",
       "Romance             38275483.0\n",
       "Science Fiction     64238440.0\n",
       "TV Movie            42000000.0\n",
       "Thriller            44800002.5\n",
       "War                 51155219.0\n",
       "Western             31679776.0\n",
       "Name: revenue, dtype: float64"
      ]
     },
     "execution_count": 336,
     "metadata": {},
     "output_type": "execute_result"
    }
   ],
   "source": [
    "# Average revenue by movie genres\n",
    "mean_genre_revenue_df = df_genre.groupby('genres').median()['revenue']\n",
    "mean_genre_revenue_df"
   ]
  },
  {
   "cell_type": "code",
   "execution_count": 337,
   "metadata": {},
   "outputs": [
    {
     "data": {
      "text/plain": [
       "'Animation'"
      ]
     },
     "execution_count": 337,
     "metadata": {},
     "output_type": "execute_result"
    }
   ],
   "source": [
    "# max average revenue by genre\n",
    "mean_genre_revenue_df.idxmax()"
   ]
  },
  {
   "cell_type": "code",
   "execution_count": 338,
   "metadata": {},
   "outputs": [
    {
     "data": {
      "text/plain": [
       "'Foreign'"
      ]
     },
     "execution_count": 338,
     "metadata": {},
     "output_type": "execute_result"
    }
   ],
   "source": [
    "# min average revenue by genre\n",
    "mean_genre_revenue_df.idxmin()"
   ]
  },
  {
   "cell_type": "code",
   "execution_count": 339,
   "metadata": {},
   "outputs": [
    {
     "data": {
      "image/png": "[encoded data removed]",
      "text/plain": [
       "<matplotlib.figure.Figure at 0x7f582e848d68>"
      ]
     },
     "metadata": {},
     "output_type": "display_data"
    }
   ],
   "source": [
    "# bar graph of revenue by movie genres\n",
    "plot = mean_genre_revenue_df.plot.bar(figsize=(20,8), title='Revenue by Genres');\n",
    "plot.set_ylabel(\"average revenue\");\n",
    "plot.legend();"
   ]
  },
  {
   "cell_type": "markdown",
   "metadata": {},
   "source": [
    "This graph shows that __Animation__ has the highest __Revenue__ while __Foreign__ is the least"
   ]
  },
  {
   "cell_type": "markdown",
   "metadata": {},
   "source": [
    "<span id='q8'> </span>\n",
    "### Question 8. Do high Budget movies make higher Revenues?\n",
    "<a href='#toc'>Top</a>"
   ]
  },
  {
   "cell_type": "markdown",
   "metadata": {},
   "source": [
    "> Group the dataset into low and high budgets. To achieve this, use the median and proceed as follows:\n",
    "\n",
    "> Low budget < Median. \n",
    "\n",
    "> High budget >= Median.\n",
    "\n",
    "> Use the mean of each category to plot a bar graph.\n",
    "\n",
    "> Use other graphs (scatter) to visualize the results.\n",
    "\n",
    "> Also, find the correlation between the Revenue and Budget. "
   ]
  },
  {
   "cell_type": "code",
   "execution_count": 340,
   "metadata": {},
   "outputs": [],
   "source": [
    "# Use query to select each group and get its mean quality\n",
    "# find the median budget\n",
    "median = df['budget'].median()\n",
    "\n",
    "# filter df into low and high budgets\n",
    "low = df.query('budget < {}'.format(median))\n",
    "high = df.query('budget >= {}'.format(median))\n",
    "\n",
    "# find the mean revenues for each category\n",
    "mean_revenue_low = low['revenue'].mean()\n",
    "mean_revenue_high = high['revenue'].mean()"
   ]
  },
  {
   "cell_type": "code",
   "execution_count": 341,
   "metadata": {},
   "outputs": [
    {
     "data": {
      "image/png": "[encoded data removed]",
      "text/plain": [
       "<matplotlib.figure.Figure at 0x7f582f52d470>"
      ]
     },
     "metadata": {},
     "output_type": "display_data"
    }
   ],
   "source": [
    "# Create a bar graph\n",
    "locations = [1, 2]\n",
    "heights = [mean_revenue_low, mean_revenue_high]\n",
    "labels = ['Low budget', 'High budget']\n",
    "plt.bar(locations, heights, tick_label=labels)\n",
    "plt.title('Average Revenue by Budget (Low/High)')\n",
    "plt.xlabel('Budget')\n",
    "plt.ylabel('Average Revenue');"
   ]
  },
  {
   "cell_type": "code",
   "execution_count": 342,
   "metadata": {},
   "outputs": [
    {
     "data": {
      "text/plain": [
       "0.68708942825682084"
      ]
     },
     "execution_count": 342,
     "metadata": {},
     "output_type": "execute_result"
    }
   ],
   "source": [
    "# calculate the correlation between Budget and Revenue\n",
    "df['budget'].corr(df['revenue'])"
   ]
  },
  {
   "cell_type": "code",
   "execution_count": 343,
   "metadata": {},
   "outputs": [
    {
     "data": {
      "image/png": "[encoded data removed]",
      "text/plain": [
       "<matplotlib.figure.Figure at 0x7f582e787c18>"
      ]
     },
     "metadata": {},
     "output_type": "display_data"
    }
   ],
   "source": [
    "df.plot(x='budget', y='revenue', kind='scatter', figsize=(8,8), title='Revenue by Budget');"
   ]
  },
  {
   "cell_type": "markdown",
   "metadata": {},
   "source": [
    "Fig 1 and 2 shows that the budget of movies strongly affect its revenue positively."
   ]
  },
  {
   "cell_type": "markdown",
   "metadata": {},
   "source": [
    "<span id='q9'> </span>\n",
    "### Question 9. Which genre of music has highest profit?\n",
    "<a href='#toc'>Top</a>"
   ]
  },
  {
   "cell_type": "markdown",
   "metadata": {},
   "source": [
    "> Add a profit column to df_genre. Compute the average profit for each genre."
   ]
  },
  {
   "cell_type": "code",
   "execution_count": 344,
   "metadata": {},
   "outputs": [
    {
     "data": {
      "text/html": [
       "<div>\n",
       "<style>\n",
       "    .dataframe thead tr:only-child th {\n",
       "        text-align: right;\n",
       "    }\n",
       "\n",
       "    .dataframe thead th {\n",
       "        text-align: left;\n",
       "    }\n",
       "\n",
       "    .dataframe tbody tr th {\n",
       "        vertical-align: top;\n",
       "    }\n",
       "</style>\n",
       "<table border=\"1\" class=\"dataframe\">\n",
       "  <thead>\n",
       "    <tr style=\"text-align: right;\">\n",
       "      <th></th>\n",
       "      <th>id</th>\n",
       "      <th>popularity</th>\n",
       "      <th>budget</th>\n",
       "      <th>revenue</th>\n",
       "      <th>original_title</th>\n",
       "      <th>cast</th>\n",
       "      <th>runtime</th>\n",
       "      <th>genres</th>\n",
       "      <th>production_companies</th>\n",
       "      <th>user_rating</th>\n",
       "      <th>profit</th>\n",
       "    </tr>\n",
       "  </thead>\n",
       "  <tbody>\n",
       "    <tr>\n",
       "      <th>32</th>\n",
       "      <td>254470</td>\n",
       "      <td>3.877764</td>\n",
       "      <td>29000000</td>\n",
       "      <td>287506194</td>\n",
       "      <td>Pitch Perfect 2</td>\n",
       "      <td>Anna Kendrick|Rebel Wilson|Hailee Steinfeld|Br...</td>\n",
       "      <td>115</td>\n",
       "      <td>Music</td>\n",
       "      <td>Universal Pictures|Gold Circle Films|Brownston...</td>\n",
       "      <td>1264</td>\n",
       "      <td>258506194</td>\n",
       "    </tr>\n",
       "    <tr>\n",
       "      <th>40</th>\n",
       "      <td>277216</td>\n",
       "      <td>3.202719</td>\n",
       "      <td>28000000</td>\n",
       "      <td>201634991</td>\n",
       "      <td>Straight Outta Compton</td>\n",
       "      <td>O'Shea Jackson Jr.|Corey Hawkins|Jason Mitchel...</td>\n",
       "      <td>147</td>\n",
       "      <td>Music</td>\n",
       "      <td>New Line Cinema|Universal Pictures|Legendary P...</td>\n",
       "      <td>918</td>\n",
       "      <td>173634991</td>\n",
       "    </tr>\n",
       "  </tbody>\n",
       "</table>\n",
       "</div>"
      ],
      "text/plain": [
       "        id  popularity    budget    revenue          original_title  \\\n",
       "32  254470    3.877764  29000000  287506194         Pitch Perfect 2   \n",
       "40  277216    3.202719  28000000  201634991  Straight Outta Compton   \n",
       "\n",
       "                                                 cast  runtime genres  \\\n",
       "32  Anna Kendrick|Rebel Wilson|Hailee Steinfeld|Br...      115  Music   \n",
       "40  O'Shea Jackson Jr.|Corey Hawkins|Jason Mitchel...      147  Music   \n",
       "\n",
       "                                 production_companies  user_rating     profit  \n",
       "32  Universal Pictures|Gold Circle Films|Brownston...         1264  258506194  \n",
       "40  New Line Cinema|Universal Pictures|Legendary P...          918  173634991  "
      ]
     },
     "execution_count": 344,
     "metadata": {},
     "output_type": "execute_result"
    }
   ],
   "source": [
    "# add 'profit' column to the df_genre.\n",
    "df_genre['profit'] = df_genre['revenue'] - df_genre['budget']\n",
    "\n",
    "# preview to confirm addition of column\n",
    "df_genre.head(2)"
   ]
  },
  {
   "cell_type": "code",
   "execution_count": 345,
   "metadata": {
    "scrolled": false
   },
   "outputs": [
    {
     "data": {
      "text/plain": [
       "genres\n",
       "Action              31419575.5\n",
       "Adventure           52104681.0\n",
       "Animation          110724603.0\n",
       "Comedy              23004834.5\n",
       "Crime               16330482.0\n",
       "Documentary          7924603.0\n",
       "Drama               12513689.5\n",
       "Family              58564310.0\n",
       "Fantasy             52298489.0\n",
       "Foreign             -3095920.5\n",
       "History             20487170.0\n",
       "Horror              16472057.0\n",
       "Music               20726956.0\n",
       "Mystery             15492362.0\n",
       "Romance             17629776.0\n",
       "Science Fiction     22600832.0\n",
       "TV Movie            37000000.0\n",
       "Thriller            19389060.0\n",
       "War                 22900000.0\n",
       "Western              6513908.5\n",
       "Name: profit, dtype: float64"
      ]
     },
     "execution_count": 345,
     "metadata": {},
     "output_type": "execute_result"
    }
   ],
   "source": [
    "# Average profit by movie genres\n",
    "mean_genre_profit_df = df_genre.groupby('genres').median()['profit']\n",
    "mean_genre_profit_df"
   ]
  },
  {
   "cell_type": "code",
   "execution_count": 346,
   "metadata": {},
   "outputs": [
    {
     "data": {
      "text/plain": [
       "'Animation'"
      ]
     },
     "execution_count": 346,
     "metadata": {},
     "output_type": "execute_result"
    }
   ],
   "source": [
    "# max average profit by genre\n",
    "mean_genre_profit_df.idxmax()"
   ]
  },
  {
   "cell_type": "code",
   "execution_count": 347,
   "metadata": {},
   "outputs": [
    {
     "data": {
      "text/plain": [
       "'Foreign'"
      ]
     },
     "execution_count": 347,
     "metadata": {},
     "output_type": "execute_result"
    }
   ],
   "source": [
    "# min average profit \n",
    "mean_genre_profit_df.idxmin()"
   ]
  },
  {
   "cell_type": "code",
   "execution_count": 348,
   "metadata": {
    "scrolled": false
   },
   "outputs": [
    {
     "data": {
      "image/png": "[encoded data removed]",
      "text/plain": [
       "<matplotlib.figure.Figure at 0x7f582e8afc50>"
      ]
     },
     "metadata": {},
     "output_type": "display_data"
    }
   ],
   "source": [
    "# bar graph of profit by movie genres\n",
    "plot = mean_genre_profit_df.plot.bar(figsize=(20,8), title='Profit by Genres');\n",
    "plot.set_ylabel(\"average profits\");\n",
    "plot.legend();"
   ]
  },
  {
   "cell_type": "markdown",
   "metadata": {},
   "source": [
    "This graph shows that on average, __Animation__ has the highest ___profit___ while __Foreign__ genre movies on the contrary, averagely make losses."
   ]
  },
  {
   "cell_type": "markdown",
   "metadata": {},
   "source": [
    "<span id='q10'> </span>\n",
    "### Question 10. How does User Rating and Popularity influence Revenue?\n",
    "<a href='#toc'>Top</a>"
   ]
  },
  {
   "cell_type": "markdown",
   "metadata": {},
   "source": [
    "> Compute the correlations for user rating, popularity and revenue. Also, make a scatter plot of the user rating and popularity against revenue"
   ]
  },
  {
   "cell_type": "code",
   "execution_count": 349,
   "metadata": {},
   "outputs": [
    {
     "data": {
      "text/html": [
       "<div>\n",
       "<style>\n",
       "    .dataframe thead tr:only-child th {\n",
       "        text-align: right;\n",
       "    }\n",
       "\n",
       "    .dataframe thead th {\n",
       "        text-align: left;\n",
       "    }\n",
       "\n",
       "    .dataframe tbody tr th {\n",
       "        vertical-align: top;\n",
       "    }\n",
       "</style>\n",
       "<table border=\"1\" class=\"dataframe\">\n",
       "  <thead>\n",
       "    <tr style=\"text-align: right;\">\n",
       "      <th></th>\n",
       "      <th>revenue</th>\n",
       "      <th>user_rating</th>\n",
       "      <th>popularity</th>\n",
       "    </tr>\n",
       "  </thead>\n",
       "  <tbody>\n",
       "    <tr>\n",
       "      <th>revenue</th>\n",
       "      <td>1.000000</td>\n",
       "      <td>0.753595</td>\n",
       "      <td>0.613831</td>\n",
       "    </tr>\n",
       "    <tr>\n",
       "      <th>user_rating</th>\n",
       "      <td>0.753595</td>\n",
       "      <td>1.000000</td>\n",
       "      <td>0.779148</td>\n",
       "    </tr>\n",
       "    <tr>\n",
       "      <th>popularity</th>\n",
       "      <td>0.613831</td>\n",
       "      <td>0.779148</td>\n",
       "      <td>1.000000</td>\n",
       "    </tr>\n",
       "  </tbody>\n",
       "</table>\n",
       "</div>"
      ],
      "text/plain": [
       "              revenue  user_rating  popularity\n",
       "revenue      1.000000     0.753595    0.613831\n",
       "user_rating  0.753595     1.000000    0.779148\n",
       "popularity   0.613831     0.779148    1.000000"
      ]
     },
     "execution_count": 349,
     "metadata": {},
     "output_type": "execute_result"
    }
   ],
   "source": [
    "# calculate the correlation between user rating, popularity and revenue\n",
    "df[['revenue','user_rating', 'popularity']].corr()"
   ]
  },
  {
   "cell_type": "code",
   "execution_count": 350,
   "metadata": {},
   "outputs": [
    {
     "data": {
      "image/png": "[encoded data removed]",
      "text/plain": [
       "<matplotlib.figure.Figure at 0x7f582e8de978>"
      ]
     },
     "metadata": {},
     "output_type": "display_data"
    }
   ],
   "source": [
    "# scatter plot between revenue and user_rating\n",
    "df.plot(x='user_rating', y='revenue', kind='scatter', figsize=(8,8), title='Revenue by User rating');"
   ]
  },
  {
   "cell_type": "code",
   "execution_count": 351,
   "metadata": {},
   "outputs": [
    {
     "data": {
      "image/png": "[encoded data removed]",
      "text/plain": [
       "<matplotlib.figure.Figure at 0x7f582f9767b8>"
      ]
     },
     "metadata": {},
     "output_type": "display_data"
    }
   ],
   "source": [
    "# scatter plot between revenue and popularity\n",
    "df.plot(x='popularity', y='revenue', kind='scatter', figsize=(8,8), title='Revenue by Popularity');"
   ]
  },
  {
   "cell_type": "markdown",
   "metadata": {},
   "source": [
    "These graphs show strong positive correlation between __Revenue__ and both __User rating__ and __Popularity__. However, User rating(0.754) has a stronger correlation than Popularity(0.614)."
   ]
  },
  {
   "cell_type": "markdown",
   "metadata": {},
   "source": [
    "<a id='conclusions'></a>\n",
    "## Conclusions\n",
    "\n",
    ">The project anlyzed data from __The Movie Database(TMDb)__. The initial dataset contained a total of 10,866 records with 21 columns, namely *'id','imdb_id', 'popularity', 'budget', 'revenue', 'original_title', 'cast', 'homepage', 'director', 'tagline', 'keywords', 'overview', 'runtime', 'genres', 'production_companies', 'release_date', 'vote_count', 'vote_average', 'release_year', 'budget_adj', 'revenue_adj.'*\n",
    "\n",
    ">Data statistics revealed that over 50% of the data contain zero (0) values for the budget and revenue columns. [Kaggle](https://www.kaggle.com/tmdb/tmdb-movie-metadata/home), from where the original data was obtained, advices that those values should be treated as <a href='#assume'>missing</a>. These records were removed. Null and duplicate entries were dropped.\n",
    "    \n",
    ">Also, the following columns *'imdb_id', 'homepage','director', 'tagline', 'keywords', 'overview', 'vote_average', 'release_date', 'release_year', 'budget_adj', 'revenue_adj'* were not relevant to this project and therefore were dropped.\n",
    "\n",
    ">Furthermore, outliers were not excluded. \n",
    "\n",
    ">After cleaning the dataset, a total of 3,855 records with 11 columns remained.\n",
    "\n",
    "><a href='#toc'>Top</a>\n",
    "\n",
    "#### Limitations\n",
    "\n",
    "><ul><li>Over 50% of the data contained zeros (0) and were removed([Kaggle](https://www.kaggle.com/tmdb/tmdb-movie-metadata/home)). This represents a substantial number of the movies in the dataset and therefore tends to make the remaining data not representative of the overall dataset.</li>  \n",
    "    </ul> \n",
    "\n",
    "><a href='#toc'>Top</a>\n",
    "\n",
    "#### Results\n",
    ">The project set out to find answers to the following question:\n",
    "    <ol id='toc'>\n",
    "    <li> <a href='#c1'>Which movie has the highest Budget?</a></li>\n",
    "    <li> <a href='#c2'>Which movie generated the highest Revenue and Profit?</a></li>\n",
    "    <li> <a href='#c3'>What genre is most produced?</a></li>\n",
    "    <li> <a href='#c4'>What genre of movies received higher Popularity?</a></li>\n",
    "    <li> <a href='#c5'>What genre of movies received higher User Ratings?</a></li> \n",
    "    <li> <a href='#c6'>What genre of movies has highest Budgets?</a></li>\n",
    "    <li> <a href='#c7'>What genre of movies has highest Revenues?</a></li>\n",
    "    <li> <a href='#c8'>Do high Budget movies make higher Revenues?</a></li>\n",
    "    <li> <a href='#c9'>What genre of music has highest profit?</a></li>\n",
    "    <li> <a href='#c10'>How does User Rating and Popularity influence Revenue?</a></li>   \n",
    "    </ol>\n",
    ">It is noteworthy that the distributions for budget, revenue, profits, popularity and user rating were skewed to the right. For such distributions, [the median was chosen as a better estimator of central tendancy instead of the mean](http://blog.minitab.com/blog/michelle-paret/3-things-a-histogram-can-tell-you).\n",
    "\n",
    ">The analysis showed the following:\n",
    "    <ol>\n",
    "        <li><span id='c1'>Which movie has the highest Budget?\n",
    "            <ul>\n",
    "            <li><strong>\"The Warrior's Way\" at 425,000,000</strong>.</li> \n",
    "            </ul>\n",
    "            </span>\n",
    "        </li>\n",
    "        <li><span id='c2'>Which movie generated the highest Revenue and Profit?\n",
    "            <ul>\n",
    "            <li><strong>Highest revenue: \"Avatar\" at 2,781,505,847</strong>.</li>\n",
    "            <li><strong>Highest profit: \"Avatar\" at 2,544,505,847</strong>.</li> \n",
    "            </ul>\n",
    "            </span>\n",
    "        </li>\n",
    "        <li><span id='c3'>What genre is most produced?\n",
    "            <ul>\n",
    "            <li><strong>Drama </strong>.</li> \n",
    "            </ul>\n",
    "            </span>\n",
    "        </li>\n",
    "        <li><span id='c4'>What genre of movies received highest Popularity?\n",
    "            <ul>\n",
    "            <li><strong>Animation </strong>.</li> \n",
    "            </ul>\n",
    "            </span>\n",
    "        </li>\n",
    "        <li><span id='c5'>What genre of movies received highest User Ratings?\n",
    "            <ul>\n",
    "            <li><strong>Animation </strong>.</li> \n",
    "            </ul>\n",
    "            </span>\n",
    "        </li> \n",
    "        <li><span id='c6'>What genre of movies has highest Budgets?\n",
    "            <ul>\n",
    "            <li><strong>Animation </strong>.</li> \n",
    "            </ul>\n",
    "            </span>\n",
    "        </li>\n",
    "        <li><span id='c7'>What genre of movies has highest Revenues?\n",
    "            <ul>\n",
    "            <li><strong>Animation </strong>.</li> \n",
    "            </ul>\n",
    "            </span>\n",
    "        </li>\n",
    "        <li><span id='c8'>Do high Budget movies make higher Revenues?\n",
    "            <ul>\n",
    "            <li>The study found that revenue and budget have a strong positive correlation. Graph of means of low and high budget movies also corroborates the correlation. This suggests that on the average, high budget movies tend to attract higher revenues. </li> \n",
    "            </ul>\n",
    "            </span>\n",
    "        </li>\n",
    "        <li><span id='c9'>What genre of music has highest Profit?\n",
    "            <ul>\n",
    "            <li><strong>Animation </strong>.</li> \n",
    "            </ul>\n",
    "            </span>\n",
    "        </li>\n",
    "        <li><span id='c10'>How does User Rating and Popularity influence Revenue?\n",
    "            <ul>\n",
    "            <li>The study found strong positive correlation between Revenue and both User rating and Popularity. However, User rating has a stronger correlation than Popularity. This suggests that mostly, movies with higher User Rating and Popularity tend to attract higher revenues.\n",
    "                </li> \n",
    "            </ul>\n",
    "            </span>\n",
    "        </li>  \n",
    "    </ol>\n",
    "\n",
    "><a href='#toc'>Top</a>\n",
    "\n",
    "## Submitting your Project \n",
    "\n",
    "> Before you submit your project, you need to create a .html or .pdf version of this notebook in the workspace here. To do that, run the code cell below. If it worked correctly, you should get a return code of 0, and you should see the generated .html file in the workspace directory (click on the orange Jupyter icon in the upper left).\n",
    "\n",
    "> Alternatively, you can download this report as .html via the **File** > **Download as** submenu, and then manually upload it into the workspace directory by clicking on the orange Jupyter icon in the upper left, then using the Upload button.\n",
    "\n",
    "> Once you've done this, you can submit your project by clicking on the \"Submit Project\" button in the lower right here. This will create and submit a zip file with this .ipynb doc and the .html or .pdf version you created. Congratulations!"
   ]
  },
  {
   "cell_type": "code",
   "execution_count": 352,
   "metadata": {},
   "outputs": [
    {
     "data": {
      "text/plain": [
       "0"
      ]
     },
     "execution_count": 352,
     "metadata": {},
     "output_type": "execute_result"
    }
   ],
   "source": [
    "from subprocess import call\n",
    "call(['python', '-m', 'nbconvert', 'Investigate_a_Dataset.ipynb'])"
   ]
  },
  {
   "cell_type": "code",
   "execution_count": null,
   "metadata": {},
   "outputs": [],
   "source": []
  }
 ],
 "metadata": {
  "kernelspec": {
   "display_name": "Python 3",
   "language": "python",
   "name": "python3"
  },
  "language_info": {
   "codemirror_mode": {
    "name": "ipython",
    "version": 3
   },
   "file_extension": ".py",
   "mimetype": "text/x-python",
   "name": "python",
   "nbconvert_exporter": "python",
   "pygments_lexer": "ipython3",
   "version": "3.6.3"
  }
 },
 "nbformat": 4,
 "nbformat_minor": 2
}
